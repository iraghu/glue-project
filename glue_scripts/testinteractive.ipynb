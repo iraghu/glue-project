{
 "cells": [
  {
   "cell_type": "code",
   "execution_count": 1,
   "metadata": {
    "vscode": {
     "languageId": "python"
    }
   },
   "outputs": [
    {
     "name": "stdout",
     "output_type": "stream",
     "text": [
      "Welcome to the Glue Interactive Sessions Kernel\n",
      "For more information on available magic commands, please type %help in any new cell.\n",
      "\n",
      "Please view our Getting Started page to access the most up-to-date information on the Interactive Sessions kernel: https://docs.aws.amazon.com/glue/latest/dg/interactive-sessions.html\n",
      "Trying to create a Glue session for the kernel.\n",
      "Session Type: etl\n",
      "Session ID: 5e3b5fa5-e484-405f-8a7d-550f9322f044\n",
      "Applying the following default arguments:\n",
      "--glue_kernel_version 1.0.8\n",
      "--enable-glue-datacatalog true\n",
      "Waiting for session 5e3b5fa5-e484-405f-8a7d-550f9322f044 to get into ready status...\n",
      "Session 5e3b5fa5-e484-405f-8a7d-550f9322f044 has been created.\n",
      "\n"
     ]
    }
   ],
   "source": [
    "import sys\n",
    "from pyspark.sql import SparkSession\n",
    "from awsglue.utils import getResolvedOptions\n",
    "from awsglue.context import GlueContext\n",
    "from pyspark.context import SparkContext\n",
    "from awsglue.dynamicframe import DynamicFrame"
   ]
  },
  {
   "cell_type": "code",
   "execution_count": 5,
   "metadata": {
    "vscode": {
     "languageId": "python"
    }
   },
   "outputs": [
    {
     "name": "stderr",
     "output_type": "stream",
     "text": [
      "You are already connected to a glueetl session 5e3b5fa5-e484-405f-8a7d-550f9322f044.\n",
      "\n",
      "No change will be made to the current session that is set as glueetl. The session configuration change will apply to newly created sessions.\n"
     ]
    },
    {
     "name": "stdout",
     "output_type": "stream",
     "text": [
      "Previous number of workers: None\n",
      "Setting new number of workers to: 2\n"
     ]
    },
    {
     "name": "stderr",
     "output_type": "stream",
     "text": [
      "You are already connected to a glueetl session 5e3b5fa5-e484-405f-8a7d-550f9322f044.\n",
      "\n",
      "No change will be made to the current session that is set as glueetl. The session configuration change will apply to newly created sessions.\n"
     ]
    },
    {
     "name": "stdout",
     "output_type": "stream",
     "text": [
      "Current idle_timeout is None minutes.\n",
      "idle_timeout has been set to 15 minutes.\n"
     ]
    }
   ],
   "source": [
    "%number_of_workers 2\n",
    "%idle_timeout 15"
   ]
  },
  {
   "cell_type": "code",
   "execution_count": 3,
   "metadata": {
    "vscode": {
     "languageId": "python"
    }
   },
   "outputs": [
    {
     "name": "stdout",
     "output_type": "stream",
     "text": [
      "<awsglue.context.GlueContext object at 0x7fc7f1ed16c0>\n"
     ]
    }
   ],
   "source": [
    "spark = SparkSession.builder.appName(\"GlueReplApp\").getOrCreate()\n",
    "sc = spark.sparkContext\n",
    "glueContext = GlueContext(sc)\n",
    "print(glueContext)"
   ]
  },
  {
   "cell_type": "code",
   "execution_count": 4,
   "metadata": {
    "vscode": {
     "languageId": "python"
    }
   },
   "outputs": [
    {
     "name": "stdout",
     "output_type": "stream",
     "text": [
      "\n"
     ]
    }
   ],
   "source": [
    "#import datetime\n",
    "#current_date = datetime.now().strftime('%Y-%m-%d')\n",
    "#print(current_date)\n",
    "source_s3_path = \"s3://gluerawbucket/raw/employee/\"\n",
    "destination_s3_path = \"s3://gluerawbucket/refined/employee/\""
   ]
  },
  {
   "cell_type": "code",
   "execution_count": 5,
   "metadata": {
    "vscode": {
     "languageId": "python"
    }
   },
   "outputs": [
    {
     "name": "stdout",
     "output_type": "stream",
     "text": [
      "+------------------+-------------+-----------------+--------------------+\n",
      "|employee_languages|employee_name|employee_position|      employee_tools|\n",
      "+------------------+-------------+-----------------+--------------------+\n",
      "|       [Python, R]|  Alice Brown|Software Engineer|[TensorFlow, Kube...|\n",
      "|       [Python, R]|    Bob Smith|   Data Scientist|[TensorFlow, Kube...|\n",
      "|       [Java, C++]|Charlie Davis|  DevOps Engineer|       [Docker, AWS]|\n",
      "|[JavaScript, Ruby]|  Diana Green|  Product Manager|    [Git, Terraform]|\n",
      "|       [Python, R]|  Alice Brown|Software Engineer|[TensorFlow, Kube...|\n",
      "|       [Python, R]|    Bob Smith|   Data Scientist|[TensorFlow, Kube...|\n",
      "|       [Java, C++]|Charlie Davis|  DevOps Engineer|       [Docker, AWS]|\n",
      "|[JavaScript, Ruby]|  Diana Green|  Product Manager|    [Git, Terraform]|\n",
      "+------------------+-------------+-----------------+--------------------+\n"
     ]
    }
   ],
   "source": [
    "df= spark.read.option(\"multiline\", \"true\").json(\"s3://gluerawbucket/raw/employee/2025-02-04/\")\n",
    "df.show()"
   ]
  },
  {
   "cell_type": "code",
   "execution_count": null,
   "metadata": {
    "vscode": {
     "languageId": "python"
    }
   },
   "outputs": [],
   "source": []
  }
 ],
 "metadata": {
  "kernelspec": {
   "display_name": "Glue PySpark",
   "language": "python",
   "name": "glue_pyspark"
  },
  "language_info": {
   "codemirror_mode": {
    "name": "python",
    "version": 3
   },
   "file_extension": ".py",
   "mimetype": "text/x-python",
   "name": "Python_Glue_Session",
   "pygments_lexer": "python3"
  }
 },
 "nbformat": 4,
 "nbformat_minor": 2
}
